{
 "cells": [
  {
   "cell_type": "code",
   "execution_count": 1,
   "id": "bb93ecb1-4c98-4f05-bdd7-76e2c67b50c0",
   "metadata": {},
   "outputs": [],
   "source": [
    "file_vv30K = open('data/vv30K.index.txt', encoding='UTF-8')\n",
    "lines_vv30K = file_vv30K.readlines()\n",
    "file_vv30K.close()"
   ]
  },
  {
   "cell_type": "code",
   "execution_count": 2,
   "id": "61557627-e2fb-4390-a376-44745c58a6f6",
   "metadata": {},
   "outputs": [],
   "source": [
    "specials = ['gi','yêm','yên','yêu']\n",
    "starts =  ['','b','c','ch','d','g','gh','gi','h','k','kh','l','m','n','ng','ngh','nh','ph','q','r','s','t','th','tr','v','x','đ']\n",
    "ends = ['a', 'ac', 'ach', 'ai', 'am', 'an', 'ang', 'anh', 'ao', 'ap', 'at', 'au', 'ay', 'e', 'em', 'en', 'eng', 'eo', 'ep', 'et', 'i', 'ia', 'ich', 'im', 'in', 'inh', 'ip', 'it', 'iu', 'iêc', 'iêm', 'iên', 'iêng', 'iêp', 'iêt', 'iêu', 'o', 'oa', 'oach', 'oai', 'oan', 'oang', 'oanh', 'oat', 'oay', 'oc', 'oe', 'oi', 'om', 'on', 'ong', 'oong', 'op', 'ot', 'oăc', 'oăn', 'oăng', 'oăt', 'u', 'ua', 'uc', 'ui', 'um', 'un', 'ung', 'up', 'ut', 'uy', 'uya', 'uych', 'uynh', 'uyt', 'uyên', 'uyêt', 'uân', 'uâng', 'uât', 'uê', 'uôc', 'uôi', 'uôm', 'uôn', 'uông', 'uôt', 'uơ', 'y', 'âc', 'âm', 'ân', 'âng', 'âp', 'ât', 'âu', 'ây', 'ê', 'êch', 'êm', 'ên', 'ênh', 'êp', 'êt', 'êu', 'ô', 'ôc', 'ôi', 'ôm', 'ôn', 'ông', 'ôp', 'ôt', 'ăc', 'ăm', 'ăn', 'ăng', 'ăp', 'ăt', 'ơ', 'ơi', 'ơm', 'ơn', 'ơp', 'ơt', 'ư', 'ưa', 'ưc', 'ưi', 'ưng', 'ưt', 'ưu', 'ươc', 'ươi', 'ươm', 'ươn', 'ương', 'ươp', 'ươt', 'ươu']\n",
    "tones = ['aáàảãạ','âấầẩẫậ','ăắằẳẵặ','eéèẻẽẹ','êếềểễệ','iíìỉĩị','oóòỏõọ','ôốồổỗộ','ơớờởỡợ','uúùủũụ','ưứừửữự','yýỳỷỹỵ']\n",
    "\n",
    "specials.sort()\n",
    "starts.sort()\n",
    "ends.sort()\n",
    "tones.sort()\n",
    "\n",
    "file_encoder = open('output/encoder.txt', 'w', encoding='UTF-8')\n",
    "file_encoder.write(str(len(specials)))\n",
    "file_encoder.write(' ')\n",
    "file_encoder.write(str(len(starts)))\n",
    "file_encoder.write(' ')\n",
    "file_encoder.write(str(len(ends)))\n",
    "file_encoder.write(' ')\n",
    "file_encoder.write(str(len(tones)))\n",
    "file_encoder.write('\\n')\n",
    "for special in specials:\n",
    "    file_encoder.write(special)\n",
    "    if (special == specials[-1]):\n",
    "        file_encoder.write('\\n')\n",
    "    else:\n",
    "        file_encoder.write(',')\n",
    "for start in starts:\n",
    "    file_encoder.write(start)\n",
    "    if (start == starts[-1]):\n",
    "        file_encoder.write('\\n')\n",
    "    else:\n",
    "        file_encoder.write(',')\n",
    "for end in ends:\n",
    "    file_encoder.write(end)\n",
    "    if (end == ends[-1]):\n",
    "        file_encoder.write('\\n')\n",
    "    else:\n",
    "        file_encoder.write(',')\n",
    "for tone in tones:\n",
    "    file_encoder.write(tone)\n",
    "    if (tone == tones[-1]):\n",
    "        file_encoder.write('\\n')\n",
    "    else:\n",
    "        file_encoder.write(',')\n",
    "file_encoder.close()"
   ]
  },
  {
   "cell_type": "code",
   "execution_count": 3,
   "id": "7c5ab5d8-0d3a-4ea2-b4ba-9ba89cb81c7f",
   "metadata": {},
   "outputs": [],
   "source": [
    "def removeTone(word):\n",
    "    index_tone = 0\n",
    "    for i in reversed(range(len(word))):\n",
    "        for j in tones:\n",
    "            for k in range(1,len(j)):\n",
    "                if word[i] == j[k]:\n",
    "                    word = word[:i] + j[0] + word[i+1:]\n",
    "                    index_tone = k;\n",
    "                    return index_tone, word;\n",
    "    return index_tone, word;\n",
    "\n",
    "def encoderToInt(word):\n",
    "    index_start = 0\n",
    "    index_end = -1\n",
    "    index_tone = 0\n",
    "    \n",
    "    word = word.lower()\n",
    "    \n",
    "    index_tone, word = removeTone(word)\n",
    "    \n",
    "    for i in range(len(specials)):\n",
    "        if (word == specials[i]):\n",
    "            index_start = 31\n",
    "            index_end = i\n",
    "            return (index_end << 8) + (index_start << 3) + index_tone;\n",
    "\n",
    "    for i in reversed(range(len(starts))):\n",
    "        if word.startswith(starts[i]):\n",
    "            index_start = i\n",
    "            break\n",
    "            \n",
    "    end = word[len(starts[index_start]):]\n",
    "    if end in ends:\n",
    "        index_end = ends.index(end)\n",
    "\n",
    "    if index_end == -1:\n",
    "        return -1\n",
    "    return (index_end << 8) + (index_start << 3) + index_tone\n",
    "\n",
    "def funcSort(word):\n",
    "    vs = word.split(' ')\n",
    "    return (encoderToInt(vs[0]) << 16) + encoderToInt(vs[1])"
   ]
  },
  {
   "cell_type": "code",
   "execution_count": 4,
   "id": "c29065f8-bfcf-4788-b071-c6d9dc6692a0",
   "metadata": {},
   "outputs": [],
   "source": [
    "words = []\n",
    "for line in lines_vv30K:\n",
    "    line = line.split('\\t')[0].lower()\n",
    "    vs = line.split(' ')\n",
    "        \n",
    "    if len(vs) == 2 and encoderToInt(vs[0]) != -1 and encoderToInt(vs[1]) != -1:\n",
    "        words.append(line)\n",
    "    \n",
    "words = list(set(words))\n",
    "words.sort(key=funcSort)"
   ]
  },
  {
   "cell_type": "code",
   "execution_count": 5,
   "id": "d6c406ce-dd7b-4373-bd6d-69a903af7a12",
   "metadata": {},
   "outputs": [],
   "source": [
    "file_dictionary = open('output/dictionary.txt', 'w', encoding='UTF-8')\n",
    "file_dictionary.write(str(len(words)))\n",
    "file_dictionary.write('\\n')\n",
    "for word in words:\n",
    "    file_dictionary.write(word)\n",
    "    if (word == words[-1]):\n",
    "        file_dictionary.write('\\n')\n",
    "    else:\n",
    "        file_dictionary.write(',')\n",
    "        \n",
    "file_dictionary.close()"
   ]
  },
  {
   "cell_type": "code",
   "execution_count": 6,
   "id": "3db7c6ce",
   "metadata": {},
   "outputs": [],
   "source": [
    "import operator\n",
    "\n",
    "start_words = {}\n",
    "end_words = {}\n",
    "for i in range(len(words)):\n",
    "    vs = words[i].split(' ')\n",
    "    if start_words.get(vs[0]) != None:\n",
    "        start_words[vs[0]] = start_words[vs[0]] + 1;\n",
    "    else:\n",
    "        start_words[vs[0]] = 1\n",
    "\n",
    "    if end_words.get(vs[1]) != None:\n",
    "        end_words[vs[1]] = end_words[vs[1]] + 1;\n",
    "    else:\n",
    "        end_words[vs[1]] = 1"
   ]
  },
  {
   "cell_type": "code",
   "execution_count": 7,
   "id": "b5cbbba5",
   "metadata": {},
   "outputs": [],
   "source": [
    "file_start_words = open('output/start_word.txt', 'w', encoding='UTF-8')\n",
    "list_start_words = list(start_words.keys())\n",
    "file_start_words.write(str(len(list_start_words)))\n",
    "file_start_words.write('\\n')\n",
    "for word in list_start_words:\n",
    "    file_start_words.write(word)\n",
    "    if (word == list_start_words[-1]):\n",
    "        file_start_words.write('\\n')\n",
    "    else:\n",
    "        file_start_words.write(',')\n",
    "file_start_words.close()"
   ]
  },
  {
   "cell_type": "code",
   "execution_count": 8,
   "id": "5ecafb90",
   "metadata": {},
   "outputs": [
    {
     "name": "stdout",
     "output_type": "stream",
     "text": [
      "len(words): 21403\n",
      "range encode: 0 to 35029\n",
      "len(start_words): 3767\n",
      "len(end_words): 4287\n"
     ]
    }
   ],
   "source": [
    "# Report\n",
    "print(f'len(words): {len(words)}')\n",
    "print(f'range encode: {encoderToInt(\"a\")} to {encoderToInt(\"đượu\")}')\n",
    "print(f'len(start_words): {len(start_words)}')\n",
    "print(f'len(end_words): {len(end_words)}')"
   ]
  }
 ],
 "metadata": {
  "kernelspec": {
   "display_name": "Python 3",
   "language": "python",
   "name": "python3"
  },
  "language_info": {
   "codemirror_mode": {
    "name": "ipython",
    "version": 3
   },
   "file_extension": ".py",
   "mimetype": "text/x-python",
   "name": "python",
   "nbconvert_exporter": "python",
   "pygments_lexer": "ipython3",
   "version": "3.8.8"
  }
 },
 "nbformat": 4,
 "nbformat_minor": 5
}
