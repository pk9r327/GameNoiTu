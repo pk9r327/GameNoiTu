{
 "cells": [
  {
   "cell_type": "code",
   "execution_count": 1,
   "id": "2aeea7b6",
   "metadata": {},
   "outputs": [],
   "source": [
    "only = [\"gi\",\"yêu\",\"yên\",\"yêm\",\"thuơ\"]\n",
    "\n",
    "head = ['','b','c','ch','d','g','gh','gi','h','k','kh','l','m','n','ng','ngh','nh','p','ph','q','r','s','t','th','tr','v','x','đ']\n",
    "\n",
    "tail1 = ['a','ac','ach','ai','am','an','ang','anh','ao','ap','at','au','ay','e','em','en','eng','eo','ep','et','i','ia','ich','im','in','inh','ip','it','iu','o','oa','oc','oe','oi','om','on','ong','op','ot','ot','u','ua','uc','ui','um','un','ung','up','ut','uy','uê','uơ','y','âc','âm','ân','âng','âp','ât','âu','ây','ê','êch','êm','ên','ênh','êp','êt','êu','ô','ôc','ôi','ôm','ôn','ông','ôp','ôt','ăc','ăm','ăn','ăng','ăp','ăt','ơ','ơi','ơm','ơn','ơp','ơt','ư','ưa','ưc','ưi','ưng','ưt','ưu']\n",
    "\n",
    "tail2 = ['iêc','iêm','iên','iêng','iêp','iêt','iêu','oach','oai','oan','oang','oanh','oat','oay','oăn','oăng','oăt','uân','uât','uôc','uôi','uôm','uôn','uông','uôt','uya','uych','uynh','uyt','uyên','uyêt','ươc','ươi','ươm','ươn','ương','ươp','ươt','ươu']"
   ]
  },
  {
   "cell_type": "code",
   "execution_count": 2,
   "id": "6f8118f8",
   "metadata": {},
   "outputs": [
    {
     "name": "stdout",
     "output_type": "stream",
     "text": [
      "length_head: 28\n",
      "length_tail: 135\n",
      "num_of_word: 22710\n"
     ]
    }
   ],
   "source": [
    "length_tail = len(tail1)+len(tail2)\n",
    "num_of_word = (length_tail * len(head) + len(only)) * 6\n",
    "\n",
    "print('length_head: ' + str(len(head)))\n",
    "print('length_tail: ' + str(length_tail))\n",
    "print('num_of_word: ' + str(num_of_word))\n",
    "\n",
    "# word in dictionary 5515"
   ]
  },
  {
   "cell_type": "code",
   "execution_count": 3,
   "id": "145bbf85",
   "metadata": {},
   "outputs": [],
   "source": [
    "file = open('data\\dic.txt', 'r',encoding='utf-8')\n",
    "dic = file.read().split(',')"
   ]
  },
  {
   "cell_type": "code",
   "execution_count": 4,
   "id": "ad007551",
   "metadata": {},
   "outputs": [
    {
     "data": {
      "text/plain": [
       "['a bung', 'a di', 'a dơi', 'a dua', 'a đới']"
      ]
     },
     "execution_count": 4,
     "metadata": {},
     "output_type": "execute_result"
    }
   ],
   "source": [
    "dic[0:5]"
   ]
  },
  {
   "cell_type": "code",
   "execution_count": 7,
   "id": "62411c61",
   "metadata": {},
   "outputs": [
    {
     "ename": "NameError",
     "evalue": "name 'operator' is not defined",
     "output_type": "error",
     "traceback": [
      "\u001b[1;31m---------------------------------------------------------------------------\u001b[0m",
      "\u001b[1;31mNameError\u001b[0m                                 Traceback (most recent call last)",
      "\u001b[1;32m<ipython-input-7-3b9d3a5a8e14>\u001b[0m in \u001b[0;36m<module>\u001b[1;34m\u001b[0m\n\u001b[0;32m     14\u001b[0m \u001b[1;31m#         data[vs[1]] = 1\u001b[0m\u001b[1;33m\u001b[0m\u001b[1;33m\u001b[0m\u001b[1;33m\u001b[0m\u001b[0m\n\u001b[0;32m     15\u001b[0m \u001b[1;33m\u001b[0m\u001b[0m\n\u001b[1;32m---> 16\u001b[1;33m \u001b[0msort_dict\u001b[0m\u001b[1;33m=\u001b[0m \u001b[0mdict\u001b[0m\u001b[1;33m(\u001b[0m\u001b[0msorted\u001b[0m\u001b[1;33m(\u001b[0m\u001b[0mdata\u001b[0m\u001b[1;33m.\u001b[0m\u001b[0mitems\u001b[0m\u001b[1;33m(\u001b[0m\u001b[1;33m)\u001b[0m\u001b[1;33m,\u001b[0m \u001b[0mkey\u001b[0m\u001b[1;33m=\u001b[0m\u001b[0moperator\u001b[0m\u001b[1;33m.\u001b[0m\u001b[0mitemgetter\u001b[0m\u001b[1;33m(\u001b[0m\u001b[1;36m1\u001b[0m\u001b[1;33m)\u001b[0m\u001b[1;33m)\u001b[0m\u001b[1;33m)\u001b[0m\u001b[1;33m\u001b[0m\u001b[1;33m\u001b[0m\u001b[0m\n\u001b[0m",
      "\u001b[1;31mNameError\u001b[0m: name 'operator' is not defined"
     ]
    }
   ],
   "source": [
    "import operator\n",
    "\n",
    "data = {}\n",
    "for i in range(len(dic)):\n",
    "    vs = dic[i].split(' ')\n",
    "    if data.get(vs[0]) != None:\n",
    "        data[vs[0]] = data[vs[0]] + 1;\n",
    "    else:\n",
    "        data[vs[0]] = 1\n",
    "        \n",
    "#     if data.get(vs[1]) != None:\n",
    "#         data[vs[1]] = data[vs[1]] + 1;\n",
    "#     else:\n",
    "#         data[vs[1]] = 1\n",
    "\n",
    "sort_dict= dict(sorted(data.items(), key=operator.itemgetter(1))) "
   ]
  }
 ],
 "metadata": {
  "kernelspec": {
   "display_name": "Python 3",
   "language": "python",
   "name": "python3"
  },
  "language_info": {
   "codemirror_mode": {
    "name": "ipython",
    "version": 3
   },
   "file_extension": ".py",
   "mimetype": "text/x-python",
   "name": "python",
   "nbconvert_exporter": "python",
   "pygments_lexer": "ipython3",
   "version": "3.8.8"
  }
 },
 "nbformat": 4,
 "nbformat_minor": 5
}
